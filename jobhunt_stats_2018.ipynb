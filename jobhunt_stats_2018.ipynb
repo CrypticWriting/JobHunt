{
 "cells": [
  {
   "cell_type": "markdown",
   "metadata": {},
   "source": [
    "# Jobhunt stats of 2018 - matplotlib, pandas & numpy"
   ]
  },
  {
   "cell_type": "raw",
   "metadata": {},
   "source": [
    "With this file I'm playing around with some jobhunt stats from the 2018.\n",
    "Stats include the company, time of application and if  interview took place.\n",
    "\n",
    "On this file I'm using matplotlib, pyplot, numpy and pandas."
   ]
  },
  {
   "cell_type": "code",
   "execution_count": 1,
   "metadata": {},
   "outputs": [],
   "source": [
    "import numpy as np\n",
    "import pandas as pd \n",
    "import matplotlib.pyplot as plt\n",
    "\n",
    "\n",
    "df = pd.read_csv(\n",
    "    \"jobhunt.csv\",\n",
    "    delimiter=\";\"\n",
    "    )"
   ]
  },
  {
   "cell_type": "markdown",
   "metadata": {},
   "source": [
    "# Investigating and modifying dataframe"
   ]
  },
  {
   "cell_type": "code",
   "execution_count": 2,
   "metadata": {},
   "outputs": [
    {
     "data": {
      "text/html": [
       "<div>\n",
       "<style scoped>\n",
       "    .dataframe tbody tr th:only-of-type {\n",
       "        vertical-align: middle;\n",
       "    }\n",
       "\n",
       "    .dataframe tbody tr th {\n",
       "        vertical-align: top;\n",
       "    }\n",
       "\n",
       "    .dataframe thead th {\n",
       "        text-align: right;\n",
       "    }\n",
       "</style>\n",
       "<table border=\"1\" class=\"dataframe\">\n",
       "  <thead>\n",
       "    <tr style=\"text-align: right;\">\n",
       "      <th></th>\n",
       "      <th>Unnamed: 0</th>\n",
       "      <th>company</th>\n",
       "      <th>time</th>\n",
       "      <th>interviewed</th>\n",
       "      <th>Unnamed: 4</th>\n",
       "      <th>Unnamed: 5</th>\n",
       "      <th>Unnamed: 6</th>\n",
       "      <th>Unnamed: 7</th>\n",
       "    </tr>\n",
       "  </thead>\n",
       "  <tbody>\n",
       "    <tr>\n",
       "      <th>147</th>\n",
       "      <td>148.0</td>\n",
       "      <td>Logentia</td>\n",
       "      <td>2018-12-10</td>\n",
       "      <td>NaN</td>\n",
       "      <td>NaN</td>\n",
       "      <td>NaN</td>\n",
       "      <td>NaN</td>\n",
       "      <td>NaN</td>\n",
       "    </tr>\n",
       "    <tr>\n",
       "      <th>148</th>\n",
       "      <td>NaN</td>\n",
       "      <td>NaN</td>\n",
       "      <td>NaN</td>\n",
       "      <td>NaN</td>\n",
       "      <td>NaN</td>\n",
       "      <td>NaN</td>\n",
       "      <td>NaN</td>\n",
       "      <td>NaN</td>\n",
       "    </tr>\n",
       "    <tr>\n",
       "      <th>149</th>\n",
       "      <td>NaN</td>\n",
       "      <td>NaN</td>\n",
       "      <td>NaN</td>\n",
       "      <td>NaN</td>\n",
       "      <td>NaN</td>\n",
       "      <td>NaN</td>\n",
       "      <td>NaN</td>\n",
       "      <td>NaN</td>\n",
       "    </tr>\n",
       "    <tr>\n",
       "      <th>150</th>\n",
       "      <td>NaN</td>\n",
       "      <td>NaN</td>\n",
       "      <td>NaN</td>\n",
       "      <td>NaN</td>\n",
       "      <td>NaN</td>\n",
       "      <td>NaN</td>\n",
       "      <td>NaN</td>\n",
       "      <td>NaN</td>\n",
       "    </tr>\n",
       "    <tr>\n",
       "      <th>151</th>\n",
       "      <td>NaN</td>\n",
       "      <td>NaN</td>\n",
       "      <td>NaN</td>\n",
       "      <td>NaN</td>\n",
       "      <td>NaN</td>\n",
       "      <td>NaN</td>\n",
       "      <td>NaN</td>\n",
       "      <td>NaN</td>\n",
       "    </tr>\n",
       "  </tbody>\n",
       "</table>\n",
       "</div>"
      ],
      "text/plain": [
       "     Unnamed: 0   company        time interviewed  Unnamed: 4  Unnamed: 5  \\\n",
       "147       148.0  Logentia  2018-12-10         NaN         NaN         NaN   \n",
       "148         NaN       NaN         NaN         NaN         NaN         NaN   \n",
       "149         NaN       NaN         NaN         NaN         NaN         NaN   \n",
       "150         NaN       NaN         NaN         NaN         NaN         NaN   \n",
       "151         NaN       NaN         NaN         NaN         NaN         NaN   \n",
       "\n",
       "     Unnamed: 6  Unnamed: 7  \n",
       "147         NaN         NaN  \n",
       "148         NaN         NaN  \n",
       "149         NaN         NaN  \n",
       "150         NaN         NaN  \n",
       "151         NaN         NaN  "
      ]
     },
     "execution_count": 2,
     "metadata": {},
     "output_type": "execute_result"
    }
   ],
   "source": [
    "df.tail(5)"
   ]
  },
  {
   "cell_type": "code",
   "execution_count": 3,
   "metadata": {},
   "outputs": [
    {
     "data": {
      "text/plain": [
       "Unnamed: 0       4\n",
       "company          4\n",
       "time             4\n",
       "interviewed    132\n",
       "Unnamed: 4     152\n",
       "Unnamed: 5     152\n",
       "Unnamed: 6     152\n",
       "Unnamed: 7     152\n",
       "dtype: int64"
      ]
     },
     "execution_count": 3,
     "metadata": {},
     "output_type": "execute_result"
    }
   ],
   "source": [
    "# CHECKING nan values from dataframe\n",
    "\n",
    "df.isna().sum()\n",
    "\n",
    "# -> it appears that the end of the dataframe has nan values"
   ]
  },
  {
   "cell_type": "code",
   "execution_count": 4,
   "metadata": {},
   "outputs": [],
   "source": [
    "# DROPPING nan values from selected column and saving data to a new variable\n",
    "\n",
    "df.dropna(\n",
    "    subset=[\"company\", \"time\"], \n",
    "    how=\"any\",\n",
    "    inplace=True\n",
    "    )"
   ]
  },
  {
   "cell_type": "code",
   "execution_count": 5,
   "metadata": {},
   "outputs": [
    {
     "data": {
      "text/html": [
       "<div>\n",
       "<style scoped>\n",
       "    .dataframe tbody tr th:only-of-type {\n",
       "        vertical-align: middle;\n",
       "    }\n",
       "\n",
       "    .dataframe tbody tr th {\n",
       "        vertical-align: top;\n",
       "    }\n",
       "\n",
       "    .dataframe thead th {\n",
       "        text-align: right;\n",
       "    }\n",
       "</style>\n",
       "<table border=\"1\" class=\"dataframe\">\n",
       "  <thead>\n",
       "    <tr style=\"text-align: right;\">\n",
       "      <th></th>\n",
       "      <th>Unnamed: 0</th>\n",
       "      <th>company</th>\n",
       "      <th>time</th>\n",
       "      <th>interviewed</th>\n",
       "      <th>Unnamed: 4</th>\n",
       "      <th>Unnamed: 5</th>\n",
       "      <th>Unnamed: 6</th>\n",
       "      <th>Unnamed: 7</th>\n",
       "    </tr>\n",
       "  </thead>\n",
       "  <tbody>\n",
       "    <tr>\n",
       "      <th>145</th>\n",
       "      <td>146.0</td>\n",
       "      <td>valtiolle</td>\n",
       "      <td>2018-12-04</td>\n",
       "      <td>NaN</td>\n",
       "      <td>NaN</td>\n",
       "      <td>NaN</td>\n",
       "      <td>NaN</td>\n",
       "      <td>NaN</td>\n",
       "    </tr>\n",
       "    <tr>\n",
       "      <th>146</th>\n",
       "      <td>147.0</td>\n",
       "      <td>Upseller</td>\n",
       "      <td>2018-12-05</td>\n",
       "      <td>NaN</td>\n",
       "      <td>NaN</td>\n",
       "      <td>NaN</td>\n",
       "      <td>NaN</td>\n",
       "      <td>NaN</td>\n",
       "    </tr>\n",
       "    <tr>\n",
       "      <th>147</th>\n",
       "      <td>148.0</td>\n",
       "      <td>Logentia</td>\n",
       "      <td>2018-12-10</td>\n",
       "      <td>NaN</td>\n",
       "      <td>NaN</td>\n",
       "      <td>NaN</td>\n",
       "      <td>NaN</td>\n",
       "      <td>NaN</td>\n",
       "    </tr>\n",
       "  </tbody>\n",
       "</table>\n",
       "</div>"
      ],
      "text/plain": [
       "     Unnamed: 0    company        time interviewed  Unnamed: 4  Unnamed: 5  \\\n",
       "145       146.0  valtiolle  2018-12-04         NaN         NaN         NaN   \n",
       "146       147.0   Upseller  2018-12-05         NaN         NaN         NaN   \n",
       "147       148.0   Logentia  2018-12-10         NaN         NaN         NaN   \n",
       "\n",
       "     Unnamed: 6  Unnamed: 7  \n",
       "145         NaN         NaN  \n",
       "146         NaN         NaN  \n",
       "147         NaN         NaN  "
      ]
     },
     "execution_count": 5,
     "metadata": {},
     "output_type": "execute_result"
    }
   ],
   "source": [
    "\"\"\"CHECKING how the end of our dataframe looks like\n",
    "- column \"interviewed\" can still have nan values\"\"\"\n",
    "\n",
    "df.tail(3)"
   ]
  },
  {
   "cell_type": "code",
   "execution_count": 6,
   "metadata": {},
   "outputs": [
    {
     "data": {
      "text/plain": [
       "Unnamed: 0       0\n",
       "company          0\n",
       "time             0\n",
       "interviewed    128\n",
       "Unnamed: 4     148\n",
       "Unnamed: 5     148\n",
       "Unnamed: 6     148\n",
       "Unnamed: 7     148\n",
       "dtype: int64"
      ]
     },
     "execution_count": 6,
     "metadata": {},
     "output_type": "execute_result"
    }
   ],
   "source": [
    "\"\"\"DOUBLE checking with the table that nan values \n",
    "aren't amon, mainly \"time\"-column\"\"\"\n",
    "\n",
    "df.isna().sum()"
   ]
  },
  {
   "cell_type": "code",
   "execution_count": 7,
   "metadata": {},
   "outputs": [],
   "source": [
    "\"\"\"SPLITTING time -column to month-only\n",
    "This way we can use it to group dataset by month\"\"\"\n",
    "\n",
    "df['time'] = df.time.apply(lambda x: x.split('-')[-2])"
   ]
  },
  {
   "cell_type": "markdown",
   "metadata": {},
   "source": [
    "# Setting data ready for plotting"
   ]
  },
  {
   "cell_type": "code",
   "execution_count": 8,
   "metadata": {},
   "outputs": [
    {
     "name": "stdout",
     "output_type": "stream",
     "text": [
      "[3, 4, 22, 30, 17, 15, 9, 25, 18, 5]\n",
      "[3, 4, 22, 30, 17, 15, 9, 25, 18, 0, 0, 5]\n",
      "[1, 2, 3, 4, 5, 6, 7, 8, 9, 12]\n",
      "[1, 2, 3, 4, 5, 6, 7, 8, 9, 10, 11, 12]\n"
     ]
    }
   ],
   "source": [
    "# Outputting \"time\"-column to a list for month_applied -variable\n",
    "\n",
    "application_per_month = \\\n",
    "    df.groupby(\"time\")\\\n",
    "    .time.count()\\\n",
    "    .tolist()\n",
    "\n",
    "\n",
    "# Appending missing values to compleate the whole year\n",
    "\n",
    "all_application_per_month = \\\n",
    "    application_per_month[:9] \\\n",
    "    + [0,0] \\\n",
    "    + application_per_month[9:]\n",
    "\n",
    "\n",
    "\"\"\"OUTPUTTING unique values from time to months_grouped_to_months \n",
    "also coz the output of unique() is a float we change it to type int \n",
    "and list\"\"\"\n",
    "\n",
    "months_grouped_to_months = \\\n",
    "    df.time.unique()\\\n",
    "    .astype(int)\\\n",
    "    .tolist()\n",
    "\n",
    "\n",
    "\"\"\"APPENDING missing month values to complete the whole year on \n",
    "all_months_grouped_to_months\"\"\"\n",
    "\n",
    "all_months_grouped_to_months = \\\n",
    "    months_grouped_to_months[:9] \\\n",
    "    + [10,11] \\\n",
    "    + months_grouped_to_months[9:]\n",
    "\n",
    "\n",
    "\"\"\"WILL count the highest month and adds +5 - just testing some\n",
    "highest_values = df[\"aika\"].astype(int).max() \n",
    "print(highest_values + 5)\"\"\"\n",
    "\n",
    "print(application_per_month)\n",
    "print(all_application_per_month)\n",
    "\n",
    "print(months_grouped_to_months)\n",
    "print(all_months_grouped_to_months)\n"
   ]
  },
  {
   "cell_type": "code",
   "execution_count": 9,
   "metadata": {},
   "outputs": [
    {
     "data": {
      "text/html": [
       "<div>\n",
       "<style scoped>\n",
       "    .dataframe tbody tr th:only-of-type {\n",
       "        vertical-align: middle;\n",
       "    }\n",
       "\n",
       "    .dataframe tbody tr th {\n",
       "        vertical-align: top;\n",
       "    }\n",
       "\n",
       "    .dataframe thead th {\n",
       "        text-align: right;\n",
       "    }\n",
       "</style>\n",
       "<table border=\"1\" class=\"dataframe\">\n",
       "  <thead>\n",
       "    <tr style=\"text-align: right;\">\n",
       "      <th></th>\n",
       "      <th>Unnamed: 0</th>\n",
       "      <th>company</th>\n",
       "      <th>time</th>\n",
       "      <th>interviewed</th>\n",
       "      <th>Unnamed: 4</th>\n",
       "      <th>Unnamed: 5</th>\n",
       "      <th>Unnamed: 6</th>\n",
       "      <th>Unnamed: 7</th>\n",
       "    </tr>\n",
       "  </thead>\n",
       "  <tbody>\n",
       "    <tr>\n",
       "      <th>145</th>\n",
       "      <td>146.0</td>\n",
       "      <td>valtiolle</td>\n",
       "      <td>12</td>\n",
       "      <td>NaN</td>\n",
       "      <td>NaN</td>\n",
       "      <td>NaN</td>\n",
       "      <td>NaN</td>\n",
       "      <td>NaN</td>\n",
       "    </tr>\n",
       "    <tr>\n",
       "      <th>146</th>\n",
       "      <td>147.0</td>\n",
       "      <td>Upseller</td>\n",
       "      <td>12</td>\n",
       "      <td>NaN</td>\n",
       "      <td>NaN</td>\n",
       "      <td>NaN</td>\n",
       "      <td>NaN</td>\n",
       "      <td>NaN</td>\n",
       "    </tr>\n",
       "    <tr>\n",
       "      <th>147</th>\n",
       "      <td>148.0</td>\n",
       "      <td>Logentia</td>\n",
       "      <td>12</td>\n",
       "      <td>NaN</td>\n",
       "      <td>NaN</td>\n",
       "      <td>NaN</td>\n",
       "      <td>NaN</td>\n",
       "      <td>NaN</td>\n",
       "    </tr>\n",
       "  </tbody>\n",
       "</table>\n",
       "</div>"
      ],
      "text/plain": [
       "     Unnamed: 0    company time interviewed  Unnamed: 4  Unnamed: 5  \\\n",
       "145       146.0  valtiolle   12         NaN         NaN         NaN   \n",
       "146       147.0   Upseller   12         NaN         NaN         NaN   \n",
       "147       148.0   Logentia   12         NaN         NaN         NaN   \n",
       "\n",
       "     Unnamed: 6  Unnamed: 7  \n",
       "145         NaN         NaN  \n",
       "146         NaN         NaN  \n",
       "147         NaN         NaN  "
      ]
     },
     "execution_count": 9,
     "metadata": {},
     "output_type": "execute_result"
    }
   ],
   "source": [
    "df.tail(3)"
   ]
  },
  {
   "cell_type": "code",
   "execution_count": 10,
   "metadata": {},
   "outputs": [
    {
     "name": "stdout",
     "output_type": "stream",
     "text": [
      "[0, 0, 1, 3, 2, 4, 1, 3, 6, 0]\n",
      "[0, 0, 1, 3, 2, 4, 1, 3, 6, 0, 0, 0]\n"
     ]
    }
   ],
   "source": [
    "# SETTING interviewed column ready for plotting\n",
    "\n",
    "was_interviewed = \\\n",
    "    df.groupby(\"time\")\\\n",
    "    .interviewed\\\n",
    "    .count()\\\n",
    "    .tolist()\n",
    "\n",
    "print(was_interviewed)\n",
    "\n",
    "\n",
    "# APPENDING missing months to a list\n",
    "\n",
    "october_november = [0,0]\n",
    "\n",
    "was_interviewed_all_months = \\\n",
    "    was_interviewed[:9] \\\n",
    "    + october_november \\\n",
    "    + was_interviewed[9:]\n",
    "\n",
    "print(was_interviewed_all_months)"
   ]
  },
  {
   "cell_type": "markdown",
   "metadata": {},
   "source": [
    "# Plotting the data"
   ]
  },
  {
   "cell_type": "code",
   "execution_count": 11,
   "metadata": {},
   "outputs": [
    {
     "data": {
      "image/png": "[encoded data removed]",
      "text/plain": [
       "<Figure size 432x288 with 1 Axes>"
      ]
     },
     "metadata": {
      "needs_background": "light"
     },
     "output_type": "display_data"
    }
   ],
   "source": [
    "# PLOTTING the whole thingamathing with matplotlib\n",
    "\n",
    "plt.plot(\n",
    "        all_months_grouped_to_months, \n",
    "        all_application_per_month, \n",
    "        color=\"darkgreen\", marker=\"o\"\n",
    "        )\n",
    "\n",
    "\n",
    "plt.plot(\n",
    "        all_months_grouped_to_months, \n",
    "        was_interviewed_all_months, \n",
    "        color=\"blue\", linestyle=\"--\"\n",
    "        )\n",
    "\n",
    "\n",
    "plt.title(\"Jobhunt 2018\")\n",
    "plt.xlabel(\"Months\")\n",
    "plt.ylabel(\"Amount of applications per month\")\n",
    "legend_label = [\"Applications\", \"Interfiew\"]\n",
    "\n",
    "\n",
    "plt.legend(legend_label, loc=1)\n",
    "plt.show()"
   ]
  },
  {
   "cell_type": "code",
   "execution_count": 16,
   "metadata": {},
   "outputs": [
    {
     "name": "stderr",
     "output_type": "stream",
     "text": [
      "/Users/matiaspehkonen/anaconda3/lib/python3.7/site-packages/matplotlib/cbook/deprecation.py:107: MatplotlibDeprecationWarning: Adding an axes using the same arguments as a previous axes currently reuses the earlier instance.  In a future version, a new instance will always be created and returned.  Meanwhile, this warning can be suppressed, and the future behavior ensured, by passing a unique label to each axes instance.\n",
      "  warnings.warn(message, mplDeprecation, stacklevel=1)\n"
     ]
    },
    {
     "data": {
      "image/png": "[encoded data removed]",
      "text/plain": [
       "<Figure size 432x288 with 1 Axes>"
      ]
     },
     "metadata": {
      "needs_background": "light"
     },
     "output_type": "display_data"
    }
   ],
   "source": [
    "# JUST another df focusing bit more for the design\n",
    "\n",
    "plt.plot(\n",
    "        all_months_grouped_to_months, \n",
    "        all_application_per_month, \n",
    "        color=\"purple\", \n",
    "        marker=\"o\"\n",
    "        )\n",
    "\n",
    "\n",
    "plt.bar(\n",
    "        all_months_grouped_to_months, \n",
    "        all_application_per_month, \n",
    "        color=\"lightgray\"\n",
    "       )\n",
    "\n",
    "\n",
    "plt.plot(\n",
    "        all_months_grouped_to_months, \n",
    "        was_interviewed_all_months, \n",
    "        color=\"darkblue\", \n",
    "        linestyle=\"--\", \n",
    "        marker=\"o\"\n",
    "        )\n",
    "\n",
    "# SETTING new names for xticks\n",
    "month_names = [\n",
    "    \"Jan\", \"Feb\", \"Mar\", \n",
    "    \"Apr\", \"May\", \"Jun\", \n",
    "    \"Jul\", \"Aug\", \"Sep\", \n",
    "    \"Oct\", \"Nov\", \"Dec\"\n",
    "    ]\n",
    "\n",
    "\n",
    "# MAKING things neat\n",
    "plt.title(\"Jobhunt 2018\")\n",
    "plt.xlabel(\"Months\")\n",
    "plt.ylabel(\"Amount of applications per month\")\n",
    "\n",
    "legend_label = [\"Applications\", \"Interfiew\"]\n",
    "plt.legend(legend_label, loc=1)\n",
    "\n",
    "ax = plt.subplot()\n",
    "ax.set_xticks(all_months_grouped_to_months)\n",
    "ax.set_xticklabels(month_names, rotation=30)\n",
    "\n",
    "plt.show()\n"
   ]
  },
  {
   "cell_type": "code",
   "execution_count": 17,
   "metadata": {},
   "outputs": [
    {
     "data": {
      "text/plain": [
       "Text(0,0.5,'Plot two')"
      ]
     },
     "execution_count": 17,
     "metadata": {},
     "output_type": "execute_result"
    },
    {
     "data": {
      "image/png": "[encoded data removed]",
      "text/plain": [
       "<Figure size 432x288 with 2 Axes>"
      ]
     },
     "metadata": {
      "needs_background": "light"
     },
     "output_type": "display_data"
    }
   ],
   "source": [
    "# SHOWING off with mad subplot skills with first plot\n",
    "\n",
    "plt.subplot(2, 1, 1)\n",
    "\n",
    "plt.bar(\n",
    "    all_months_grouped_to_months, all_application_per_month, \n",
    "    color=\"purple\"\n",
    "    )\n",
    "\n",
    "\n",
    "# TITLE and label for the first plot\n",
    "\n",
    "plt.title(\"Job applications\")\n",
    "plt.ylabel(\"Plot one\")\n",
    "\n",
    "\n",
    "# SECOND plot amazing plot\n",
    "\n",
    "plt.subplot(2, 1, 2)\n",
    "plt.subplots_adjust(hspace=0.75)\n",
    "\n",
    "plt.bar(\n",
    "    all_months_grouped_to_months, \n",
    "    was_interviewed_all_months, \n",
    "    color=\"darkred\" \n",
    "    )\n",
    "\n",
    "\n",
    "# TITLE and label for the second plot\n",
    "\n",
    "plt.title(\"Interviews\")\n",
    "plt.ylabel(\"Plot two\")\n"
   ]
  },
  {
   "cell_type": "code",
   "execution_count": null,
   "metadata": {},
   "outputs": [],
   "source": []
  },
  {
   "cell_type": "markdown",
   "metadata": {},
   "source": [
    "# Playing around with pie chart"
   ]
  },
  {
   "cell_type": "code",
   "execution_count": 18,
   "metadata": {},
   "outputs": [
    {
     "data": {
      "image/png": "[encoded data removed]",
      "text/plain": [
       "<Figure size 720x576 with 1 Axes>"
      ]
     },
     "metadata": {},
     "output_type": "display_data"
    }
   ],
   "source": [
    "\"\"\"TRYING first to create pie with pre-existing\n",
    "values, but noticed there are zeroes involved.\n",
    "\n",
    "So first I needed to delete zero's from the list, \n",
    "but then the label got too long, so went on did\n",
    "the slice editing for the values on labels as well\"\"\"\n",
    "\n",
    "# REMOVING zero's from the list with numpy\n",
    "\n",
    "zero_removed_from_application_list =  \\\n",
    "    np.array([all_application_per_month]) \\\n",
    "    [(np.array([all_application_per_month]) \\\n",
    "    > 0)].astype(int).tolist()\n",
    "\n",
    "# PRINTING values to check them\n",
    "# print(zero_removed_from_application_list)\n",
    "\n",
    "\n",
    "# SPLITTING month_names to new superduber_list variable\n",
    "\n",
    "month_names_one = month_names[0:9]\n",
    "month_names_two = month_names[-1:]\n",
    "\n",
    "superduber_list = month_names_one + month_names_two\n",
    "\n",
    "# MAKING sure that he values are ok\n",
    "# print(superduber)\n",
    "\n",
    "\n",
    "# POSITIONIN piechart\n",
    "\n",
    "plt.figure(figsize=(10, 8))\n",
    "\n",
    "\n",
    "# PLOTTING pie\n",
    "plt.pie(\n",
    "    zero_removed_from_application_list,\n",
    "    labels=superduber_list, \\\n",
    "    autopct=\"%d%%\"\n",
    "    )\n",
    "\n",
    "\n",
    "plt.axis(\"equal\")\n",
    "plt.title(\"This is how effort scattered trough out the year\")\n",
    "plt.show()\n",
    "\n",
    "# WANNA save? -> plt.savefig(\"my_pie_chart.png\")\n",
    "\n"
   ]
  },
  {
   "cell_type": "markdown",
   "metadata": {},
   "source": [
    "# Few lines on statistics"
   ]
  },
  {
   "cell_type": "code",
   "execution_count": 23,
   "metadata": {},
   "outputs": [
    {
     "name": "stdout",
     "output_type": "stream",
     "text": [
      "The median of the applications is: 12.0\n",
      "The mean, 12.3, is also a good number per month.\n",
      "I don't know what is the use of std at this dataset, but I suppose it represents that I can count standard deviation: 9.8 as well.\n"
     ]
    }
   ],
   "source": [
    "# MEDIAN of the values - rounded to 0 decimals\n",
    "\n",
    "median_all_application_per_month =\\\n",
    "    np.median(all_application_per_month)\\\n",
    "    .round(decimals=0)\n",
    "\n",
    "# PRINT median\n",
    "\n",
    "print(\n",
    "    \"The median of the applications is: {}\"\\\n",
    "    .format(median_all_application_per_month)\n",
    "    )\n",
    "\n",
    "\n",
    "# MEAN calculations - rounding value to 1 decimal\n",
    "\n",
    "mean_all_application_per_month =\\\n",
    "    np.mean(all_application_per_month)\\\n",
    "    .round(decimals=1)\n",
    "\n",
    "# PRINT mean\n",
    "\n",
    "print(\"The mean, %s, is also a good number per month.\"\\\n",
    "    % mean_all_application_per_month)\n",
    "\n",
    "\n",
    "\"\"\"STANDARD deviation aka the avg distance \n",
    "of the values \n",
    "from the mean - rounding value to 1 decimal\"\"\"\n",
    "\n",
    "std_all_application_per_month =\\\n",
    "    np.std(all_application_per_month)\\\n",
    "    .round(decimals=1)\n",
    "\n",
    "# PRINT STD - I think this is not the prettiest way to split the text input\n",
    "\n",
    "print(\n",
    "    \"I don't know what is the use of std at this \" \\\n",
    "    + \"dataset, but I suppose it represents that \" \\\n",
    "    + \"I can count standard deviation: \" \\\n",
    "    + str(std_all_application_per_month) \\\n",
    "    + \" as well.\"\n",
    "    )\n"
   ]
  },
  {
   "cell_type": "code",
   "execution_count": null,
   "metadata": {},
   "outputs": [],
   "source": []
  },
  {
   "cell_type": "code",
   "execution_count": null,
   "metadata": {},
   "outputs": [],
   "source": []
  },
  {
   "cell_type": "code",
   "execution_count": null,
   "metadata": {},
   "outputs": [],
   "source": []
  },
  {
   "cell_type": "code",
   "execution_count": null,
   "metadata": {},
   "outputs": [],
   "source": []
  },
  {
   "cell_type": "code",
   "execution_count": null,
   "metadata": {},
   "outputs": [],
   "source": []
  },
  {
   "cell_type": "code",
   "execution_count": null,
   "metadata": {},
   "outputs": [],
   "source": []
  },
  {
   "cell_type": "code",
   "execution_count": null,
   "metadata": {},
   "outputs": [],
   "source": []
  },
  {
   "cell_type": "code",
   "execution_count": null,
   "metadata": {},
   "outputs": [],
   "source": []
  }
 ],
 "metadata": {
  "kernelspec": {
   "display_name": "Python 3",
   "language": "python",
   "name": "python3"
  },
  "language_info": {
   "codemirror_mode": {
    "name": "ipython",
    "version": 3
   },
   "file_extension": ".py",
   "mimetype": "text/x-python",
   "name": "python",
   "nbconvert_exporter": "python",
   "pygments_lexer": "ipython3",
   "version": "3.7.0"
  }
 },
 "nbformat": 4,
 "nbformat_minor": 2
}
